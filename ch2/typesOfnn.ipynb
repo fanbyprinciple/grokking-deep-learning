{
 "cells": [
  {
   "cell_type": "code",
   "execution_count": null,
   "metadata": {},
   "outputs": [],
   "source": [
    "### Supervised and non supervised\n",
    "supervised learning transforms data into a form we know\n",
    "\n",
    "its not the same case unsupervised learning, it converts list of data points to cluster labels\n",
    "\n",
    "### Parametric and non parametric\n",
    "Parametric model is classified by fixednumber of parameters as a method of learning. fixed parameter during learning and training\n",
    "\n",
    "In non parametric model the number of parameters are infinite. The number of parameteres change according to data\n"
   ]
  }
 ],
 "metadata": {
  "kernelspec": {
   "display_name": "Python (tf_gpu)",
   "language": "python",
   "name": "tf_gpu"
  },
  "language_info": {
   "codemirror_mode": {
    "name": "ipython",
    "version": 3
   },
   "file_extension": ".py",
   "mimetype": "text/x-python",
   "name": "python",
   "nbconvert_exporter": "python",
   "pygments_lexer": "ipython3",
   "version": "3.7.4"
  }
 },
 "nbformat": 4,
 "nbformat_minor": 2
}

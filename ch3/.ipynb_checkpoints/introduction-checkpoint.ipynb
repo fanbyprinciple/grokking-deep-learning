{
 "cells": [
  {
   "cell_type": "code",
   "execution_count": 1,
   "metadata": {},
   "outputs": [
    {
     "name": "stdout",
     "output_type": "stream",
     "text": [
      "0.8500000000000001\n"
     ]
    }
   ],
   "source": [
    "# making a simple neural network\n",
    "\n",
    "weight = 0.1\n",
    "def neural_network(input, weight):\n",
    "    prediction = input * weight\n",
    "    return prediction\n",
    "\n",
    "number_of_toes = [8.5,9.5,10,9]\n",
    "i = number_of_toes[0]\n",
    "pred= neural_network(i, weight)\n",
    "print(pred)"
   ]
  },
  {
   "cell_type": "code",
   "execution_count": 5,
   "metadata": {},
   "outputs": [
    {
     "name": "stdout",
     "output_type": "stream",
     "text": [
      "0.9800000000000001\n"
     ]
    }
   ],
   "source": [
    "# making a prediciton with multiple inputs\n",
    "\n",
    "weights = [0.1,0.2,0]\n",
    "\n",
    "def neural_network(input, weights):\n",
    "    pred = w_sum(input, weights)\n",
    "    # if numpy array input.dot(weights can be used)\n",
    "    return pred\n",
    "\n",
    "def ele_mul(a, weights):\n",
    "    # instead of weighted sum we are using multiple output predictions\n",
    "    output = [0,0,0]\n",
    "    assert (len(a) == len(b))\n",
    "    for i in range(len(a)):\n",
    "        output[i] = weight[i] * a[i]\n",
    "    return output\n",
    "\n",
    "def w_sum(a,b):\n",
    "    assert(len(a) == len(b))\n",
    "    output = 0\n",
    "    for i in range(len(a)):\n",
    "        output += (a[i] * b[i])\n",
    "    return output\n",
    "\n",
    "toes = [8.5,9.5,9.9,9.0]\n",
    "wlrec = [0.65, 0.8,0.8,0.9]\n",
    "nfans = [1.2,1.3,0.5,1.0]\n",
    "\n",
    "input = [toes[0], wlrec[0], nfans[0]]\n",
    "pred = neural_network(input, weights)\n",
    "print(pred)\n"
   ]
  },
  {
   "cell_type": "code",
   "execution_count": 6,
   "metadata": {},
   "outputs": [],
   "source": [
    "# challenge vector math\n",
    "\n",
    "def elementwise_mul(a, b):\n",
    "    assert(len(a)== len(b))\n",
    "    output = 1\n",
    "    for i in range(len(a)):\n",
    "        output += a[i] * b[i]\n",
    "    \n",
    "    return output\n",
    "\n",
    "def elementwise_add(a,b):\n",
    "    assert(len(a) == len(b))\n",
    "    output  = 0\n",
    "    for i in range(len(a)):\n",
    "        output += a[i] + b[i]\n",
    "    return output\n",
    "\n",
    "def vector_sum(a):\n",
    "    output = 0\n",
    "    for i in range(len(a)):\n",
    "        output += a[i]\n",
    "    \n",
    "    return output\n",
    "\n",
    "def vector_avg(a):\n",
    "    sum = vector_sum(a)\n",
    "    return sum // len(a)"
   ]
  },
  {
   "cell_type": "code",
   "execution_count": 10,
   "metadata": {},
   "outputs": [
    {
     "name": "stdout",
     "output_type": "stream",
     "text": [
      "[0.555, 0.9800000000000001, 0.9650000000000001]\n"
     ]
    }
   ],
   "source": [
    "weights = [[0.1, 0.1,-0.3],\n",
    "           [0.1,0.2,0.0],\n",
    "           [0.0, 1.3, 0.1]]\n",
    "\n",
    "def vector_of_zeroes(a):\n",
    "    output = []\n",
    "    for i in range((a)):\n",
    "        output.append(0)\n",
    "    return output\n",
    "\n",
    "def vect_mat_mul(vect,matrix):\n",
    "    assert(len(vect)== len(matrix))\n",
    "    output = vector_of_zeroes(len(vect))\n",
    "    \n",
    "    for i in range(len(vect)):\n",
    "        output[i] = w_sum(vect, matrix[i])        \n",
    "    return output\n",
    "\n",
    "def neural_network(input, weights):\n",
    "    pred = vect_mat_mul(input, weights)\n",
    "    return pred\n",
    "\n",
    "toes = [8.5, 9.5, 9.9, 9.0]\n",
    "wlrec = [0.65,0.8, 0.8, 0.9]\n",
    "nfans = [1.2, 1.3, 0.5, 1.0]\n",
    "\n",
    "input = [toes[0], wlrec[0], nfans[0]]\n",
    "\n",
    "pred = neural_network(input, weights)\n",
    "print(pred)\n",
    "\n",
    "\n",
    "        \n",
    "\n"
   ]
  },
  {
   "cell_type": "code",
   "execution_count": 13,
   "metadata": {
    "scrolled": true
   },
   "outputs": [
    {
     "name": "stdout",
     "output_type": "stream",
     "text": [
      "[0.2135 0.145  0.5065]\n"
     ]
    }
   ],
   "source": [
    "# stacking of neural network using numpy\n",
    "\n",
    "import numpy as np\n",
    "ih_wgt = np.array([\n",
    "    [0.1,0.2,-0.1],\n",
    "    [-0.1,0.1,0.9],\n",
    "    [0.1,0.4,0.1]\n",
    "]).T\n",
    "\n",
    "hp_wgt = np.array([\n",
    "    [0.3,1.1,-0.3],\n",
    "    [0.1,0.2,0.0],\n",
    "    [0.0,1.3,0.1]\n",
    "]).T\n",
    "\n",
    "weights = [ih_wgt, hp_wgt]\n",
    "\n",
    "def neural_network(input, weights):\n",
    "    hid = input.dot(weights[0])\n",
    "    pred = hid.dot(weights[1])\n",
    "    return pred\n",
    "\n",
    "toes = np.array([8.5, 9.5, 9.9, 9.0])\n",
    "wlrec = np.array([0.65,0.8, 0.8, 0.9])\n",
    "nfans = np.array([1.2, 1.3, 0.5, 1.0])\n",
    "\n",
    "input = np.array([toes[0], wlrec[0], nfans[0]])\n",
    "pred = neural_network(input, weights)\n",
    "print(pred)\n",
    "\n"
   ]
  },
  {
   "cell_type": "code",
   "execution_count": 18,
   "metadata": {},
   "outputs": [
    {
     "name": "stdout",
     "output_type": "stream",
     "text": [
      "[[0.29424857 0.66881921]\n",
      " [0.23177659 0.93949081]]\n"
     ]
    }
   ],
   "source": [
    "e = np.random.rand(2,2)\n",
    "print(e)"
   ]
  },
  {
   "cell_type": "markdown",
   "metadata": {},
   "source": [
    "### note\n",
    "if its a numpy array then a *3 and a*c producter scalar and vector multiplication respectively."
   ]
  },
  {
   "cell_type": "code",
   "execution_count": 24,
   "metadata": {},
   "outputs": [
    {
     "name": "stdout",
     "output_type": "stream",
     "text": [
      "[[0. 0. 0. 0.]\n",
      " [0. 0. 0. 0.]]\n"
     ]
    }
   ],
   "source": [
    "h = np.zeros((4,2)).T # T is for transpose\n",
    "print(h)"
   ]
  },
  {
   "cell_type": "code",
   "execution_count": 25,
   "metadata": {},
   "outputs": [
    {
     "name": "stdout",
     "output_type": "stream",
     "text": [
      "[[0. 0. 0. 0.]\n",
      " [0. 0. 0. 0.]]\n"
     ]
    }
   ],
   "source": [
    "j = e.dot(h)\n",
    "print(j)"
   ]
  }
 ],
 "metadata": {
  "kernelspec": {
   "display_name": "Python (tf_gpu)",
   "language": "python",
   "name": "tf_gpu"
  },
  "language_info": {
   "codemirror_mode": {
    "name": "ipython",
    "version": 3
   },
   "file_extension": ".py",
   "mimetype": "text/x-python",
   "name": "python",
   "nbconvert_exporter": "python",
   "pygments_lexer": "ipython3",
   "version": "3.7.4"
  }
 },
 "nbformat": 4,
 "nbformat_minor": 2
}
